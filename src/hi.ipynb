{
 "cells": [
  {
   "cell_type": "code",
   "execution_count": 1,
   "id": "024bbbae",
   "metadata": {},
   "outputs": [
    {
     "name": "stdout",
     "output_type": "stream",
     "text": [
      "<class 'int'> <class 'float'> <class 'str'> <class 'bool'>\n",
      "Giá ước lượng: 12000000.0\n"
     ]
    }
   ],
   "source": [
    "# Kiểu số\n",
    "area = 60                 # diện tích (m²) - int\n",
    "base_price_per_sqm = 200000.0  # VND/m² - float\n",
    "\n",
    "# Kiểu chuỗi\n",
    "district = \"Quan 1\"\n",
    "\n",
    "# Kiểu bool\n",
    "has_elevator = True\n",
    "\n",
    "# In ra để kiểm tra\n",
    "print(type(area), type(base_price_per_sqm), type(district), type(has_elevator))\n",
    "\n",
    "# Toán tử cơ bản\n",
    "estimated_rent = area * base_price_per_sqm\n",
    "print(\"Giá ước lượng:\", estimated_rent)\n"
   ]
  },
  {
   "cell_type": "code",
   "execution_count": 2,
   "id": "74d259fc",
   "metadata": {},
   "outputs": [
    {
     "name": "stdout",
     "output_type": "stream",
     "text": [
      "Số căn hộ: 3\n",
      "Căn đầu tiên: {'area': 40, 'bedrooms': 1, 'bathrooms': 1, 'furnished': 'basic'}\n",
      "Phòng ngủ căn 2: 2\n",
      "Căn 1: 40m² - 1PN - 1WC - basic\n",
      "Căn 2: 60m² - 2PN - 1WC - full\n",
      "Căn 3: 80m² - 3PN - 2WC - none\n"
     ]
    }
   ],
   "source": [
    "# Danh sách căn hộ (list các dict)\n",
    "listings = [\n",
    "    {\"area\": 40, \"bedrooms\": 1, \"bathrooms\": 1, \"furnished\": \"basic\"},\n",
    "    {\"area\": 60, \"bedrooms\": 2, \"bathrooms\": 1, \"furnished\": \"full\"},\n",
    "    {\"area\": 80, \"bedrooms\": 3, \"bathrooms\": 2, \"furnished\": \"none\"},\n",
    "]\n",
    "\n",
    "print(\"Số căn hộ:\", len(listings))\n",
    "print(\"Căn đầu tiên:\", listings[0])\n",
    "print(\"Phòng ngủ căn 2:\", listings[1][\"bedrooms\"])\n",
    "\n",
    "# Vòng lặp duyệt danh sách\n",
    "for i, item in enumerate(listings, start=1):\n",
    "    print(f\"Căn {i}: {item['area']}m² - {item['bedrooms']}PN - {item['bathrooms']}WC - {item['furnished']}\")\n"
   ]
  }
 ],
 "metadata": {
  "kernelspec": {
   "display_name": "Python 3",
   "language": "python",
   "name": "python3"
  },
  "language_info": {
   "codemirror_mode": {
    "name": "ipython",
    "version": 3
   },
   "file_extension": ".py",
   "mimetype": "text/x-python",
   "name": "python",
   "nbconvert_exporter": "python",
   "pygments_lexer": "ipython3",
   "version": "3.11.9"
  }
 },
 "nbformat": 4,
 "nbformat_minor": 5
}
